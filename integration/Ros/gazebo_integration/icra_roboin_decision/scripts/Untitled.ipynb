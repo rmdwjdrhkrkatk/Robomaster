{
 "cells": [
  {
   "cell_type": "code",
   "execution_count": 1,
   "metadata": {},
   "outputs": [],
   "source": [
    "import rospy\n",
    "import roslib\n",
    "import numpy as np\n",
    "from icra_roboin_decision_modules.roboin_behavior_service_module import SetBehaviorClient, SetGoalClient, GetInfoClient\n",
    "rospy.init_node('decision_test')"
   ]
  },
  {
   "cell_type": "code",
   "execution_count": 4,
   "metadata": {},
   "outputs": [
    {
     "name": "stdout",
     "output_type": "stream",
     "text": [
      "robot_0 health: 25\n",
      "robot_1 health: -5\n",
      "robot_0 ammo: 33\n",
      "robot_1 ammo: 35\n",
      "robot_0 game_state: 1\n",
      "robot_1 game_state: 1\n",
      "robot_0 behavior: 1\n",
      "robot_1 behavior: 1\n",
      "robot_0 process: 3\n",
      "robot_1 process: 2\n"
     ]
    }
   ],
   "source": [
    "info_0 = GetInfoClient(\"robot_0\",1)\n",
    "info_1 = GetInfoClient(\"robot_1\",1)\n",
    "print \"robot_0 health: \" + str(info_0[\"my_health\"])\n",
    "print \"robot_1 health: \" + str(info_1[\"my_health\"])\n",
    "print \"robot_0 ammo: \" + str(info_0[\"ammo\"])\n",
    "print \"robot_1 ammo: \" + str(info_1[\"ammo\"])\n",
    "print \"robot_0 game_state: \" + str(info_0[\"game_state\"])\n",
    "print \"robot_1 game_state: \" + str(info_1[\"game_state\"])\n",
    "print \"robot_0 behavior: \" + str(info_0[\"current_behavior_style\"])\n",
    "print \"robot_1 behavior: \" + str(info_1[\"current_behavior_style\"])\n",
    "print \"robot_0 process: \" + str(info_0[\"current_behavior_process\"])\n",
    "print \"robot_1 process: \" + str(info_1[\"current_behavior_process\"])"
   ]
  },
  {
   "cell_type": "code",
   "execution_count": 3,
   "metadata": {},
   "outputs": [
    {
     "data": {
      "text/plain": [
       "success: True\n",
       "info: 0"
      ]
     },
     "execution_count": 3,
     "metadata": {},
     "output_type": "execute_result"
    }
   ],
   "source": [
    "# SCENARIO\n",
    "\n",
    "# blue and red meets at 5,3 and engage for 9 sec\n",
    "\n",
    "# red robot flanks\n",
    "# blue robot turns to the direction of the armor\n",
    "# engage again\n",
    "\n",
    "# red goes to reload and after 1 sec blue also reloads\n",
    "\n",
    "# after 10 sec, again meet at 1,1 and fight until one dies\n",
    "\n",
    "import time\n",
    "\n",
    "behav_=1\n",
    "SetBehaviorClient(behav_,\"robot_0\")\n",
    "goal_ = np.array([5,3,0,0,0,0,0])\n",
    "SetGoalClient(goal_,\"robot_0\")\n",
    "behav_=1\n",
    "SetBehaviorClient(behav_,\"robot_1\")\n",
    "goal_ = np.array([3,2,0,0,0,0,0])\n",
    "SetGoalClient(goal_,\"robot_1\")\n",
    "\n",
    "time.sleep(9)\n",
    "\n",
    "behav_=1\n",
    "SetBehaviorClient(behav_,\"robot_1\")\n",
    "goal_ = np.array([5,3,0,0,0,0,0])\n",
    "SetGoalClient(goal_,\"robot_1\")\n",
    "behav_=4\n",
    "SetBehaviorClient(behav_,\"robot_0\")\n",
    "goal_ = np.array([5,3,1,0,0,0,0])\n",
    "SetGoalClient(goal_,\"robot_0\")\n",
    "\n",
    "time.sleep(9)\n",
    "\n",
    "behav_=1\n",
    "SetBehaviorClient(behav_,\"robot_0\")\n",
    "goal_ = np.array([5,3,0,0,0,0,0])\n",
    "SetGoalClient(goal_,\"robot_0\")\n",
    "\n",
    "time.sleep(0.8)\n",
    "\n",
    "behav_=1\n",
    "SetBehaviorClient(behav_,\"robot_1\")\n",
    "goal_ = np.array([3,3,0,0,0,0,0])\n",
    "SetGoalClient(goal_,\"robot_1\")\n",
    "\n",
    "time.sleep(3)\n",
    "\n",
    "behav_=5\n",
    "SetBehaviorClient(behav_,\"robot_1\")\n",
    "goal_ = np.array([4,4.5,-1.5707,0,0,0,0])\n",
    "SetGoalClient(goal_,\"robot_1\")\n",
    "\n",
    "time.sleep(1)\n",
    "\n",
    "behav_=5\n",
    "SetBehaviorClient(behav_,\"robot_0\")\n",
    "goal_ = np.array([4,4.5,-1.5707,0,0,0,0])\n",
    "SetGoalClient(goal_,\"robot_0\")\n",
    "\n",
    "time.sleep(10)\n",
    "\n",
    "behav_=1\n",
    "SetBehaviorClient(behav_,\"robot_0\")\n",
    "goal_ = np.array([1,1,0,0,0,0,0])\n",
    "SetGoalClient(goal_,\"robot_0\")\n",
    "behav_=1\n",
    "SetBehaviorClient(behav_,\"robot_1\")\n",
    "goal_ = np.array([7,4,0,0,0,0,0])\n",
    "SetGoalClient(goal_,\"robot_1\")"
   ]
  },
  {
   "cell_type": "code",
   "execution_count": null,
   "metadata": {},
   "outputs": [],
   "source": []
  }
 ],
 "metadata": {
  "kernelspec": {
   "display_name": "Python 2",
   "language": "python",
   "name": "python2"
  },
  "language_info": {
   "codemirror_mode": {
    "name": "ipython",
    "version": 2
   },
   "file_extension": ".py",
   "mimetype": "text/x-python",
   "name": "python",
   "nbconvert_exporter": "python",
   "pygments_lexer": "ipython2",
   "version": "2.7.12"
  }
 },
 "nbformat": 4,
 "nbformat_minor": 2
}
