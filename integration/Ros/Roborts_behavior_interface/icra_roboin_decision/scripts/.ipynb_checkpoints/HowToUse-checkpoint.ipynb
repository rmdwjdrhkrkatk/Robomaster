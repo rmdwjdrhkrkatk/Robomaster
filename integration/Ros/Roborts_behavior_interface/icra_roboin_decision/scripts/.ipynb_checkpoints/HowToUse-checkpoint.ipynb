{
 "cells": [
  {
   "cell_type": "code",
   "execution_count": 1,
   "metadata": {},
   "outputs": [],
   "source": [
    "import rospy\n",
    "import roslib\n",
    "import numpy as np\n",
    "from icra_roboin_decision_modules.roboin_behavior_service_module import SetBehaviorClient, SetGoalClient, GetInfoClient\n",
    "rospy.init_node('decision_test')"
   ]
  },
  {
   "cell_type": "markdown",
   "metadata": {},
   "source": [
    "# <font color=Green>Action Space</font>\n",
    "\n",
    "\n",
    "## 1: 비해비어 선택\n",
    "- 입력 커맨드 [0] 정지 STAY BEHAVIOR       \n",
    "- 입력 커맨드 [1] 좌표로 이동 MOVE BEHAVIOR         \n",
    "- 입력 커맨드 [2] 수동 속도+가속도 제어 MANUAL_ACCEL BEHAVIOR\n",
    "- 입력 커맨드 [10] 수동 속도 제어 MANUAL_SPEED BEHAVIOR (현재 버그로 가상환경에서 사용 막아뒀음)\n",
    "\n",
    "#### 사용법\n",
    "\n",
    "- SetBehaviorClient(원하는 행동 integer 입력)\n",
    "- 함수의 return의 자료형은 boolean이며 요청한 behavior가 원래 behavior와 다른 새로운 behavior면 true, 아니면 false이다."
   ]
  },
  {
   "cell_type": "raw",
   "metadata": {},
   "source": [
    "### 예시\n",
    "  \n",
    "SetBehaviorClient(1)    ### move behavior 선택 요청"
   ]
  },
  {
   "cell_type": "markdown",
   "metadata": {},
   "source": [
    "## 2:비해비어의 목표(Goal) 좌표 선택\n",
    "- 입력으로는 1x7 numpy array를 받는다. (7차원 벡터)\n",
    "- index 0부터 6까지는 각각 x, y, yaw, xa, ya, yawa, etc이다.\n",
    "\n",
    "#### 사용법\n",
    "- SetGoalClient(원하는 좌표)"
   ]
  },
  {
   "cell_type": "raw",
   "metadata": {},
   "source": [
    "### 예시: move behavior를 선택했을 경우\n",
    "  \n",
    "goal = np.array([3,2,1,0,0,0,0])   ### move behavior의 goal 좌표는 x,y,yaw 이렇게 3개만 필요하므로 나머지는 0으로 둔다.\n",
    "SetGoalClient(goal_)    ### goal을 전송한다. \n",
    "  \n",
    "### 이제 로봇이 지도상의 x=3, y=2로 이동하며 최종 자세는 북서쪽(1 ~= 3.14/3 = 60도)을 바라보는 것을 확인할 수 있다."
   ]
  },
  {
   "cell_type": "raw",
   "metadata": {},
   "source": [
    "### 예시2: MANUAL_ACCEL behavior의 경우\n",
    "goal = np.array([3,2,1,2,1,1,0])   ### manual accel의 경우 x,y,yaw 차원의 속도와 가속도(xa,ya,yawa)가 둘다 필요하므로\n",
    "                                 ### 6개 차원을 사용하였다. 마지막 차원인 etc는 현재는 사용하지 않는다.\n",
    "\n",
    "### 이제 로봇이 로봇 기준 전진방향으로는 3m/s, 로봇의 왼쪽으로는 2m/s, 반시계방향으로 1 (단위는 모르겠음)의 속도에서 시작하여\n",
    "### 각각 2m/s^2, 1m/s^2, 1(단위 모름)의 가속도로 증가하는 움직임을 볼 수 있다."
   ]
  },
  {
   "cell_type": "markdown",
   "metadata": {},
   "source": [
    "# <font color=Green>Observation Space</font>\n",
    "\n",
    "\n",
    "## 3: 블랙보드에서 게임정보 받아오기\n",
    "\n",
    "#### 사용법\n",
    "\n",
    "- GetInfoClient()\n",
    "- 관측값에 대한 dictionary값이 return된다."
   ]
  },
  {
   "cell_type": "raw",
   "metadata": {},
   "source": [
    "GetInfoClient()"
   ]
  },
  {
   "cell_type": "markdown",
   "metadata": {},
   "source": [
    "# <font color=Green>Implementation Examples</font>"
   ]
  },
  {
   "cell_type": "code",
   "execution_count": 2,
   "metadata": {},
   "outputs": [
    {
     "data": {
      "text/plain": [
       "{'x': 1.0299978263416598, 'y': 0.9811205568309972, 'z': 0.0}"
      ]
     },
     "execution_count": 2,
     "metadata": {},
     "output_type": "execute_result"
    }
   ],
   "source": [
    "##move behavior로 맵의 (6,2) 좌표로 이동해서 관측값을 받는다.\n",
    "##받은 관측값 dictionary에서 position을 표시한다\n",
    "\n",
    "behav_=1\n",
    "SetBehaviorClient(behav_)\n",
    "goal_ = np.array([7.,2.,1.6,0,0,0,0])\n",
    "SetGoalClient(goal_)\n",
    "GetInfoClient()['my_pose']['pose']['position']"
   ]
  },
  {
   "cell_type": "code",
   "execution_count": 3,
   "metadata": {},
   "outputs": [
    {
     "data": {
      "text/plain": [
       "{'current_behavior_state': 2,\n",
       " 'current_behavior_style': 1,\n",
       " 'defense_time_left': 0,\n",
       " 'enemy_count': 1,\n",
       " 'enemy_pose1': {'header': {'frame_id': 'map',\n",
       "   'seq': 0,\n",
       "   'stamp': {'nsecs': 150000000, 'secs': 17}},\n",
       "  'pose': {'orientation': {'w': 0.8591596229392992,\n",
       "    'x': 0.0,\n",
       "    'y': 0.0,\n",
       "    'z': 0.5117076727105051},\n",
       "   'position': {'x': 7.6731027166199155,\n",
       "    'y': 3.3308355793838187,\n",
       "    'z': -0.4008122357898309}}},\n",
       " 'enemy_pose2': {'header': {'frame_id': '',\n",
       "   'seq': 0,\n",
       "   'stamp': {'nsecs': 0, 'secs': 0}},\n",
       "  'pose': {'orientation': {'w': 0.0, 'x': 0.0, 'y': 0.0, 'z': 0.0},\n",
       "   'position': {'x': 0.0, 'y': 0.0, 'z': 0.0}}},\n",
       " 'goal_pose': {'header': {'frame_id': 'map',\n",
       "   'seq': 1,\n",
       "   'stamp': {'nsecs': 950000000, 'secs': 11}},\n",
       "  'pose': {'orientation': {'w': 0.0, 'x': 0.0, 'y': 0.0, 'z': 0.0},\n",
       "   'position': {'x': 7.0, 'y': 2.0, 'z': 1.6}}},\n",
       " 'has_defense_bonus': False,\n",
       " 'is_enemy_1_detected': True,\n",
       " 'is_enemy_2_detected': False,\n",
       " 'is_enemy_detected': True,\n",
       " 'my_pose': {'header': {'frame_id': 'map',\n",
       "   'seq': 0,\n",
       "   'stamp': {'nsecs': 150000000, 'secs': 17}},\n",
       "  'pose': {'orientation': {'w': 0.7047253403740144,\n",
       "    'x': 0.0,\n",
       "    'y': 0.0,\n",
       "    'z': 0.7094802285016332},\n",
       "   'position': {'x': 6.951553021855537, 'y': 1.998842828556137, 'z': 0.0}}},\n",
       " 'stamp': {'nsecs': 0, 'secs': 0}}"
      ]
     },
     "execution_count": 3,
     "metadata": {},
     "output_type": "execute_result"
    }
   ],
   "source": [
    "GetInfoClient()"
   ]
  },
  {
   "cell_type": "code",
   "execution_count": null,
   "metadata": {},
   "outputs": [],
   "source": [
    "##수동 속도-가속도 behavior로 앞으로 0.5m/s, 왼쪽으로 0.5m/s 등속운동\n",
    "##observation 전부 표시 (현재 current behavior state/style, my pose등만 구현)\n",
    "\n",
    "behav_=2\n",
    "SetBehaviorClient(behav_)\n",
    "goal_ = np.array([0.5,0.5,0,0,0,0,0])\n",
    "SetGoalClient(goal_)\n",
    "GetInfoClient()"
   ]
  },
  {
   "cell_type": "code",
   "execution_count": null,
   "metadata": {},
   "outputs": [],
   "source": []
  },
  {
   "cell_type": "code",
   "execution_count": null,
   "metadata": {},
   "outputs": [],
   "source": []
  },
  {
   "cell_type": "code",
   "execution_count": null,
   "metadata": {},
   "outputs": [],
   "source": []
  }
 ],
 "metadata": {
  "kernelspec": {
   "display_name": "Python 2",
   "language": "python",
   "name": "python2"
  },
  "language_info": {
   "codemirror_mode": {
    "name": "ipython",
    "version": 2
   },
   "file_extension": ".py",
   "mimetype": "text/x-python",
   "name": "python",
   "nbconvert_exporter": "python",
   "pygments_lexer": "ipython2",
   "version": "2.7.15rc1"
  }
 },
 "nbformat": 4,
 "nbformat_minor": 2
}
