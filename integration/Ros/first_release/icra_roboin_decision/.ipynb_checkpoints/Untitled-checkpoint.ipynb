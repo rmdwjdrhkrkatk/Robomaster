{
 "cells": [
  {
   "cell_type": "markdown",
   "metadata": {},
   "source": [
    "# <font color=red>간단사용법</font>\n",
    "\n",
    "\n",
    "\n",
    "\n",
    "##  <font color=Green>사용하는 함수</font>\n",
    "\n",
    "\n",
    "###  <font color=blue>1.SetBehaviorClient(비해비어 숫자, 로봇이름)</font>\n",
    "\n",
    "###### 예시\n",
    "- SetBehaviorClient(1,\"robot_0\")\n",
    "###### 비해비어 인덱스 (19년3월2일 기준)\n",
    "- 0: ready (아무것도안함)\n",
    "- 1: lockon search behavior (움직이다가 적발견하면 락온하고 쏨. 목표로 x,y좌표받음)\n",
    "- 2: manual speed control (수동으로 움직이면서 락온함. 목표로 x,y속도랑 바라보는 방향 theta 받음. 지도 절대좌표기준임)\n",
    "- 3: hold rotate behavior (제자리에서 빙글빙글 돌다가 적발견하면 락온함. 목표로 각속도 받게 할 예정. 일단은 2로 돌음)\n",
    "- 4: hold sentry behavior (특정 방향 좌우로 45도 두리번거리다가 적발견하면 락온함. 목표로 바라볼 방향 받음)\n",
    "- 5: reload behavior (재장전함. 목표로 장전 위치 정해줘야함. ex np.array([4,4.5,-1.5707,0,0,0,0]) )\n",
    "- 6: get buff behavior (미구현)\n",
    "- 7: backboot behavior (처음시작 위치로 가서 정렬함. 목표로 처음 시작 위치 정해줘야함 np.array([1,1,0,0,0,0,0]))\n",
    "- 나머진 아직안됨\n",
    "\n",
    "\n",
    "###  <font color=blue>2. SetGoalClient(목표, 로봇이름)</font>\n",
    "###### 예시\n",
    "- goal = np.array([5,3,0,0,0,0,0])\n",
    "- SetGoalClient(goal,\"robot_0\")\n",
    "###### 기타\n",
    "- 넘파이 7차원벡터를 goal로 받음. behavior마다 쓰는 goal이 다름\n",
    "- 일반적으로 [x,y,yaw,vx,vy,v_th,etc] 혹은 [vx,vy,v_th,ax,ay,a_th,etc]로 생각하면됨\n",
    "- lockon search behavior 같은 navigation 계열은 x,y좌표만 받음. 따라서 0번, 1번 element만 채워주면됨\n",
    "- manual speed behavior같은 manual control게열은 x속도 y속도, 각도관련 받음 따라서 0 1 2 element 사용\n",
    "- hold 게열은 theta만 받음 고로 2번 element만 채워주면됨\n",
    "- 등등\n",
    "\n",
    "###  <font color=blue>3. GetInfoClient(로봇이름,확인)</font>\n",
    "###### 설명\n",
    "- 로봇의 상태(블랙보드)를 딕셔너리로 받아옴. 확인은 0은 false, 1은 true로서 일단은 적에게 맞았을 때 is hit이 true가 되는데 이걸 다시 false로 바꿔줄것이냐 아니냐를 의미함. 가령 단순히 로봇의 상태만 보기 위해서는 0을 설정하고면 되고, 실제 의사결정을 하는 디시젼노드가 이 정보를 받을 때는 적에게 맞았다는것을 확인했기 때문에 is hit을 false로 바꿔줘야 하므로 확인을 1로 설정함. 기본값은 1임 잘 모르겠으면 1로하면됨\n",
    "###### 예시\n",
    "- GetInfoClient(\"robot_0\",1)\n"
   ]
  },
  {
   "cell_type": "code",
   "execution_count": 2,
   "metadata": {},
   "outputs": [
    {
     "ename": "ImportError",
     "evalue": "No module named icra_roboin_decision_modules.roboin_behavior_service_module",
     "output_type": "error",
     "traceback": [
      "\u001b[0;31m------------------------\u001b[0m",
      "\u001b[0;31mImportError\u001b[0mTraceback (most recent call last)",
      "\u001b[0;32m<ipython-input-2-ed66f819c03a>\u001b[0m in \u001b[0;36m<module>\u001b[0;34m()\u001b[0m\n\u001b[1;32m      2\u001b[0m \u001b[0;32mimport\u001b[0m \u001b[0mroslib\u001b[0m\u001b[0;34m\u001b[0m\u001b[0m\n\u001b[1;32m      3\u001b[0m \u001b[0;32mimport\u001b[0m \u001b[0mnumpy\u001b[0m \u001b[0;32mas\u001b[0m \u001b[0mnp\u001b[0m\u001b[0;34m\u001b[0m\u001b[0m\n\u001b[0;32m----> 4\u001b[0;31m \u001b[0;32mfrom\u001b[0m \u001b[0micra_roboin_decision_modules\u001b[0m\u001b[0;34m.\u001b[0m\u001b[0mroboin_behavior_service_module\u001b[0m \u001b[0;32mimport\u001b[0m \u001b[0mSetBehaviorClient\u001b[0m\u001b[0;34m,\u001b[0m \u001b[0mSetGoalClient\u001b[0m\u001b[0;34m,\u001b[0m \u001b[0mGetInfoClient\u001b[0m\u001b[0;34m\u001b[0m\u001b[0m\n\u001b[0m\u001b[1;32m      5\u001b[0m \u001b[0mrospy\u001b[0m\u001b[0;34m.\u001b[0m\u001b[0minit_node\u001b[0m\u001b[0;34m(\u001b[0m\u001b[0;34m'decision_test'\u001b[0m\u001b[0;34m)\u001b[0m\u001b[0;34m\u001b[0m\u001b[0m\n",
      "\u001b[0;31mImportError\u001b[0m: No module named icra_roboin_decision_modules.roboin_behavior_service_module"
     ]
    }
   ],
   "source": [
    "import rospy\n",
    "import roslib\n",
    "import numpy as np\n",
    "from icra_roboin_decision_modules.roboin_behavior_service_module import SetBehaviorClient, SetGoalClient, GetInfoClient\n",
    "rospy.init_node('decision_test')"
   ]
  },
  {
   "cell_type": "code",
   "execution_count": null,
   "metadata": {},
   "outputs": [],
   "source": [
    "SetBehaviorClient(1,\"robot_0\")\n",
    "goal_ = np.array([5,3,0,0,0,0,0])\n",
    "SetGoalClient(goal_,\"robot_0\")"
   ]
  },
  {
   "cell_type": "code",
   "execution_count": null,
   "metadata": {},
   "outputs": [],
   "source": [
    "GetInfoClient(\"robot_1\",1)[\"my_health\"]"
   ]
  },
  {
   "cell_type": "code",
   "execution_count": null,
   "metadata": {},
   "outputs": [],
   "source": [
    "GetInfoClient(\"robot_0\",1)"
   ]
  },
  {
   "cell_type": "code",
   "execution_count": null,
   "metadata": {},
   "outputs": [],
   "source": []
  },
  {
   "cell_type": "code",
   "execution_count": null,
   "metadata": {},
   "outputs": [],
   "source": []
  }
 ],
 "metadata": {
  "kernelspec": {
   "display_name": "Python 2",
   "language": "python",
   "name": "python2"
  },
  "language_info": {
   "codemirror_mode": {
    "name": "ipython",
    "version": 2
   },
   "file_extension": ".py",
   "mimetype": "text/x-python",
   "name": "python",
   "nbconvert_exporter": "python",
   "pygments_lexer": "ipython2",
   "version": "2.7.12"
  }
 },
 "nbformat": 4,
 "nbformat_minor": 2
}
