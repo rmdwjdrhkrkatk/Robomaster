{
 "cells": [
  {
   "cell_type": "markdown",
   "metadata": {},
   "source": [
    "##  <font color=Green>사용하는 함수</font>\n",
    "\n",
    "\n",
    "###  <font color=blue>1.SetBehaviorClient(비해비어 숫자, 로봇이름)</font>\n",
    "\n",
    "###### 예시\n",
    "- SetBehaviorClient(1,\"robot_0\")\n",
    "###### 비해비어 인덱스 (19년3월2일 기준)\n",
    "- 0: ready (아무것도안함)\n",
    "- 1: lockon search behavior (움직이다가 적발견하면 락온하고 쏨. 목표로 x,y좌표받음)\n",
    "- 2: manual speed control (수동으로 움직이면서 락온함. 목표로 x,y속도랑 바라보는 방향 theta 받음. 지도 절대좌표기준임)\n",
    "- 3: hold rotate behavior (제자리에서 빙글빙글 돌다가 적발견하면 락온함. 목표로 각속도 받게 할 예정. 일단은 2로 돌음)\n",
    "- 4: hold sentry behavior (특정 방향 좌우로 45도 두리번거리다가 적발견하면 락온함. 목표로 바라볼 방향 받음)\n",
    "- 5: reload behavior (재장전함. 목표로 장전 위치 정해줘야함. ex np.array([4,4.5,-1.5707,0,0,0,0]) )\n",
    "- 6: get buff behavior (미구현)\n",
    "- 7: backboot behavior (처음시작 위치로 가서 정렬함. 목표로 처음 시작 위치 정해줘야함 np.array([1,1,0,0,0,0,0]))\n",
    "- 나머진 아직안됨\n",
    "\n",
    "\n",
    "###  <font color=blue>2. SetGoalClient(목표, 로봇이름)</font>\n",
    "###### 예시\n",
    "- goal = np.array([5,3,0,0,0,0,0])\n",
    "- SetGoalClient(goal,\"robot_0\")\n",
    "###### 기타\n",
    "- 넘파이 7차원벡터를 goal로 받음. behavior마다 쓰는 goal이 다름\n",
    "- 일반적으로 [x,y,yaw,vx,vy,v_th,etc] 혹은 [vx,vy,v_th,ax,ay,a_th,etc]로 생각하면됨\n",
    "- lockon search behavior 같은 navigation 계열은 x,y좌표만 받음. 따라서 0번, 1번 element만 채워주면됨\n",
    "- manual speed behavior같은 manual control게열은 x속도 y속도, 각도관련 받음 따라서 0 1 2 element 사용\n",
    "- hold 게열은 theta만 받음 고로 2번 element만 채워주면됨\n",
    "- 등등\n",
    "\n",
    "###  <font color=blue>3. GetInfoClient(로봇이름,확인)</font>\n",
    "###### 설명\n",
    "- 로봇의 상태(블랙보드)를 딕셔너리로 받아옴. 확인은 0은 false, 1은 true로서 일단은 적에게 맞았을 때 is hit이 true가 되는데 이걸 다시 false로 바꿔줄것이냐 아니냐를 의미함. 가령 단순히 로봇의 상태만 보기 위해서는 0을 설정하고면 되고, 실제 의사결정을 하는 디시젼노드가 이 정보를 받을 때는 적에게 맞았다는것을 확인했기 때문에 is hit을 false로 바꿔줘야 하므로 확인을 1로 설정함. 기본값은 1임 잘 모르겠으면 1로하면됨\n",
    "###### 예시\n",
    "- GetInfoClient(\"robot_0\",1)\n"
   ]
  },
  {
   "cell_type": "markdown",
   "metadata": {},
   "source": [
    "##  <font color=Green>실제 예시</font>"
   ]
  },
  {
   "cell_type": "code",
   "execution_count": 1,
   "metadata": {},
   "outputs": [],
   "source": [
    "import rospy\n",
    "import roslib\n",
    "import numpy as np\n",
    "from icra_roboin_decision_modules.roboin_behavior_service_module import SetBehaviorClient, SetGoalClient, GetInfoClient\n",
    "rospy.init_node('decision_test')"
   ]
  },
  {
   "cell_type": "code",
   "execution_count": 2,
   "metadata": {},
   "outputs": [
    {
     "data": {
      "text/plain": [
       "success: True\n",
       "info: 0"
      ]
     },
     "execution_count": 2,
     "metadata": {},
     "output_type": "execute_result"
    }
   ],
   "source": [
    "SetBehaviorClient(1,\"robot_0\")\n",
    "goal_ = np.array([5,3,0,0,0,0,0])\n",
    "SetGoalClient(goal_,\"robot_0\")"
   ]
  },
  {
   "cell_type": "code",
   "execution_count": 3,
   "metadata": {},
   "outputs": [
    {
     "data": {
      "text/plain": [
       "895"
      ]
     },
     "execution_count": 3,
     "metadata": {},
     "output_type": "execute_result"
    }
   ],
   "source": [
    "GetInfoClient(\"robot_1\",1)[\"my_health\"]"
   ]
  },
  {
   "cell_type": "code",
   "execution_count": 4,
   "metadata": {},
   "outputs": [
    {
     "data": {
      "text/plain": [
       "{'ammo': 36,\n",
       " 'buff_left': {'nsecs': 0, 'secs': 0},\n",
       " 'buff_zone_cooltime': {'nsecs': 0, 'secs': 0},\n",
       " 'current_behavior_process': 2,\n",
       " 'current_behavior_style': 1,\n",
       " 'enemy_pose1': {'header': {'frame_id': 'robot_0/map',\n",
       "   'seq': 0,\n",
       "   'stamp': {'nsecs': 450000000, 'secs': 172}},\n",
       "  'pose': {'orientation': {'w': 0.9510279640143795,\n",
       "    'x': 0.0,\n",
       "    'y': 0.0,\n",
       "    'z': 0.30910485544983646},\n",
       "   'position': {'x': 6.9042650862457515,\n",
       "    'y': 4.409331517869294,\n",
       "    'z': -0.3975352966390079}}},\n",
       " 'enemy_pose2': {'header': {'frame_id': '',\n",
       "   'seq': 0,\n",
       "   'stamp': {'nsecs': 0, 'secs': 0}},\n",
       "  'pose': {'orientation': {'w': 0.0, 'x': 0.0, 'y': 0.0, 'z': 0.0},\n",
       "   'position': {'x': 0.0, 'y': 0.0, 'z': 0.0}}},\n",
       " 'enemy_priority': 3,\n",
       " 'game_start_time': {'nsecs': 150000000, 'secs': 4},\n",
       " 'game_state': 2,\n",
       " 'goal': {'etc': 0.0,\n",
       "  'header': {'frame_id': 'robot_0/map',\n",
       "   'seq': 0,\n",
       "   'stamp': {'nsecs': 650000000, 'secs': 164}},\n",
       "  'x': 5.0,\n",
       "  'xa': 0.0,\n",
       "  'y': 3.0,\n",
       "  'ya': 0.0,\n",
       "  'yaw': 0.0,\n",
       "  'yawa': 0.0},\n",
       " 'has_buff': False,\n",
       " 'how_many_enemies_detected': 1,\n",
       " 'is_enemy_1_detected': True,\n",
       " 'is_enemy_2_detected': False,\n",
       " 'is_hit': False,\n",
       " 'last_hit_time': {'nsecs': 250000000, 'secs': 172},\n",
       " 'locked_on_enemy': 1,\n",
       " 'my_health': 850,\n",
       " 'my_pose': {'header': {'frame_id': 'robot_0/map',\n",
       "   'seq': 0,\n",
       "   'stamp': {'nsecs': 450000000, 'secs': 172}},\n",
       "  'pose': {'orientation': {'w': 0.9442311013893596,\n",
       "    'x': 0.0,\n",
       "    'y': 0.0,\n",
       "    'z': 0.3292835057652251},\n",
       "   'position': {'x': 4.961819914714356, 'y': 2.9975140658591943, 'z': 0.0}}},\n",
       " 'reload_zone_cooltime': {'nsecs': 0, 'secs': 0},\n",
       " 'stamp': {'nsecs': 450000000, 'secs': 172},\n",
       " 'time_passed_from_start': {'nsecs': 300000000, 'secs': 168},\n",
       " 'which_armor_hit': 0}"
      ]
     },
     "execution_count": 4,
     "metadata": {},
     "output_type": "execute_result"
    }
   ],
   "source": [
    "GetInfoClient(\"robot_0\",1)"
   ]
  },
  {
   "cell_type": "code",
   "execution_count": null,
   "metadata": {},
   "outputs": [],
   "source": [
    "# reset game\n",
    "# when referee says game is finished\n",
    "\n",
    "\n",
    "behav_=7\n",
    "SetBehaviorClient(behav_,\"robot_0\")\n",
    "goal_ = np.array([1,1,0,0,0,0,0])\n",
    "SetGoalClient(goal_,\"robot_0\")\n",
    "behav_=7\n",
    "SetBehaviorClient(behav_,\"robot_1\")\n",
    "goal_ = np.array([1,1,0,0,0,0,0])\n",
    "SetGoalClient(goal_,\"robot_1\")"
   ]
  },
  {
   "cell_type": "markdown",
   "metadata": {},
   "source": [
    "##  <font color=Green>시나리오</font>"
   ]
  },
  {
   "cell_type": "code",
   "execution_count": null,
   "metadata": {},
   "outputs": [],
   "source": [
    "info_0 = GetInfoClient(\"robot_0\",1)\n",
    "info_1 = GetInfoClient(\"robot_1\",1)\n",
    "print \"robot_0 health: \" + str(info_0[\"my_health\"])\n",
    "print \"robot_1 health: \" + str(info_1[\"my_health\"])\n",
    "print \"robot_0 ammo: \" + str(info_0[\"ammo\"])\n",
    "print \"robot_1 ammo: \" + str(info_1[\"ammo\"])\n",
    "print \"robot_0 game_state: \" + str(info_0[\"game_state\"])\n",
    "print \"robot_1 game_state: \" + str(info_1[\"game_state\"])\n",
    "print \"robot_0 behavior: \" + str(info_0[\"current_behavior_style\"])\n",
    "print \"robot_1 behavior: \" + str(info_1[\"current_behavior_style\"])\n",
    "print \"robot_0 process: \" + str(info_0[\"current_behavior_process\"])\n",
    "print \"robot_1 process: \" + str(info_1[\"current_behavior_process\"])"
   ]
  },
  {
   "cell_type": "code",
   "execution_count": null,
   "metadata": {},
   "outputs": [],
   "source": [
    "# SCENARIO\n",
    "\n",
    "# blue and red meets at 5,3 and engage for 9 sec\n",
    "\n",
    "# red robot flanks\n",
    "# blue robot turns to the direction of the armor\n",
    "# engage again\n",
    "\n",
    "# red goes to reload and after 1 sec blue also reloads\n",
    "\n",
    "# after 10 sec, again meet at 1,1 and fight until one dies\n",
    "\n",
    "import time\n",
    "\n",
    "behav_=1\n",
    "SetBehaviorClient(behav_,\"robot_0\")\n",
    "goal_ = np.array([5,3,0,0,0,0,0])\n",
    "SetGoalClient(goal_,\"robot_0\")\n",
    "behav_=1\n",
    "SetBehaviorClient(behav_,\"robot_1\")\n",
    "goal_ = np.array([3,2,0,0,0,0,0])\n",
    "SetGoalClient(goal_,\"robot_1\")\n",
    "\n",
    "time.sleep(9)\n",
    "\n",
    "behav_=1\n",
    "SetBehaviorClient(behav_,\"robot_1\")\n",
    "goal_ = np.array([5,3,0,0,0,0,0])\n",
    "SetGoalClient(goal_,\"robot_1\")\n",
    "behav_=4\n",
    "SetBehaviorClient(behav_,\"robot_0\")\n",
    "goal_ = np.array([5,3,1,0,0,0,0])\n",
    "SetGoalClient(goal_,\"robot_0\")\n",
    "\n",
    "time.sleep(9)\n",
    "\n",
    "behav_=1\n",
    "SetBehaviorClient(behav_,\"robot_0\")\n",
    "goal_ = np.array([5,3,0,0,0,0,0])\n",
    "SetGoalClient(goal_,\"robot_0\")\n",
    "\n",
    "time.sleep(0.8)\n",
    "\n",
    "behav_=1\n",
    "SetBehaviorClient(behav_,\"robot_1\")\n",
    "goal_ = np.array([3,3,0,0,0,0,0])\n",
    "SetGoalClient(goal_,\"robot_1\")\n",
    "\n",
    "time.sleep(3)\n",
    "\n",
    "behav_=5\n",
    "SetBehaviorClient(behav_,\"robot_1\")\n",
    "goal_ = np.array([4,4.5,-1.5707,0,0,0,0])\n",
    "SetGoalClient(goal_,\"robot_1\")\n",
    "\n",
    "time.sleep(1)\n",
    "\n",
    "behav_=5\n",
    "SetBehaviorClient(behav_,\"robot_0\")\n",
    "goal_ = np.array([4,4.5,-1.5707,0,0,0,0])\n",
    "SetGoalClient(goal_,\"robot_0\")\n",
    "\n",
    "time.sleep(10)\n",
    "\n",
    "behav_=1\n",
    "SetBehaviorClient(behav_,\"robot_0\")\n",
    "goal_ = np.array([1,1,0,0,0,0,0])\n",
    "SetGoalClient(goal_,\"robot_0\")\n",
    "behav_=1\n",
    "SetBehaviorClient(behav_,\"robot_1\")\n",
    "goal_ = np.array([7,4,0,0,0,0,0])\n",
    "SetGoalClient(goal_,\"robot_1\")"
   ]
  },
  {
   "cell_type": "code",
   "execution_count": null,
   "metadata": {},
   "outputs": [],
   "source": []
  },
  {
   "cell_type": "code",
   "execution_count": null,
   "metadata": {},
   "outputs": [],
   "source": []
  }
 ],
 "metadata": {
  "kernelspec": {
   "display_name": "Python 2",
   "language": "python",
   "name": "python2"
  },
  "language_info": {
   "codemirror_mode": {
    "name": "ipython",
    "version": 2
   },
   "file_extension": ".py",
   "mimetype": "text/x-python",
   "name": "python",
   "nbconvert_exporter": "python",
   "pygments_lexer": "ipython2",
   "version": "2.7.12"
  }
 },
 "nbformat": 4,
 "nbformat_minor": 2
}
