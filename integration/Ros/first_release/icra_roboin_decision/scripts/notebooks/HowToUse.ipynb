{
 "cells": [
  {
   "cell_type": "markdown",
   "metadata": {},
   "source": [
    "# <font color=Green>Action Space</font>\n",
    "\n",
    "\n",
    "## 1: 비해비어 선택\n",
    "- 입력 커맨드 [0] 정지 STAY BEHAVIOR       \n",
    "- 입력 커맨드 [1] 좌표로 이동 MOVE BEHAVIOR         \n",
    "- 입력 커맨드 [2] 수동 속도+가속도 제어 MANUAL_ACCEL BEHAVIOR\n",
    "- 입력 커맨드 [10] 수동 속도 제어 MANUAL_SPEED BEHAVIOR (현재 버그로 가상환경에서 사용 막아뒀음)\n",
    "\n",
    "#### 사용법\n",
    "\n",
    "- SetBehaviorClient(원하는 행동 integer 입력)\n",
    "- 함수의 return의 자료형은 boolean이며 요청한 behavior가 원래 behavior와 다른 새로운 behavior면 true, 아니면 false이다."
   ]
  },
  {
   "cell_type": "raw",
   "metadata": {},
   "source": [
    "### 예시\n",
    "  \n",
    "SetBehaviorClient(1)    ### move behavior 선택 요청"
   ]
  },
  {
   "cell_type": "markdown",
   "metadata": {},
   "source": [
    "## 2:비해비어의 목표(Goal) 좌표 선택\n",
    "- 입력으로는 1x7 numpy array를 받는다. (7차원 벡터)\n",
    "- index 0부터 6까지는 각각 x, y, yaw, xa, ya, yawa, etc이다.\n",
    "\n",
    "#### 사용법\n",
    "- SetGoalClient(원하는 좌표)"
   ]
  },
  {
   "cell_type": "raw",
   "metadata": {},
   "source": [
    "### 예시: move behavior를 선택했을 경우\n",
    "  \n",
    "goal = np.array([3,2,1,0,0,0,0])   ### move behavior의 goal 좌표는 x,y,yaw 이렇게 3개만 필요하므로 나머지는 0으로 둔다.\n",
    "SetGoalClient(goal_)    ### goal을 전송한다. \n",
    "  \n",
    "### 이제 로봇이 지도상의 x=3, y=2로 이동하며 최종 자세는 북서쪽(1 ~= 3.14/3 = 60도)을 바라보는 것을 확인할 수 있다."
   ]
  },
  {
   "cell_type": "raw",
   "metadata": {},
   "source": [
    "### 예시2: MANUAL_ACCEL behavior의 경우\n",
    "goal = np.array([3,2,1,2,1,1,0])   ### manual accel의 경우 x,y,yaw 차원의 속도와 가속도(xa,ya,yawa)가 둘다 필요하므로\n",
    "                                 ### 6개 차원을 사용하였다. 마지막 차원인 etc는 현재는 사용하지 않는다.\n",
    "\n",
    "### 이제 로봇이 로봇 기준 전진방향으로는 3m/s, 로봇의 왼쪽으로는 2m/s, 반시계방향으로 1 (단위는 모르겠음)의 속도에서 시작하여\n",
    "### 각각 2m/s^2, 1m/s^2, 1(단위 모름)의 가속도로 증가하는 움직임을 볼 수 있다."
   ]
  },
  {
   "cell_type": "markdown",
   "metadata": {},
   "source": [
    "# <font color=Green>Observation Space</font>\n",
    "\n",
    "\n",
    "## 3: 블랙보드에서 게임정보 받아오기\n",
    "\n",
    "#### 사용법\n",
    "\n",
    "- GetInfoClient()\n",
    "- 관측값에 대한 dictionary값이 return된다."
   ]
  },
  {
   "cell_type": "raw",
   "metadata": {},
   "source": [
    "GetInfoClient()"
   ]
  },
  {
   "cell_type": "markdown",
   "metadata": {},
   "source": [
    "# <font color=Green>Implementation Examples</font>"
   ]
  },
  {
   "cell_type": "code",
   "execution_count": 1,
   "metadata": {},
   "outputs": [],
   "source": [
    "import rospy\n",
    "import roslib\n",
    "import numpy as np\n",
    "from icra_roboin_decision_modules.roboin_behavior_service_module import SetBehaviorClient, SetGoalClient, GetInfoClient\n",
    "rospy.init_node('decision_test')"
   ]
  },
  {
   "cell_type": "code",
   "execution_count": 2,
   "metadata": {},
   "outputs": [
    {
     "name": "stdout",
     "output_type": "stream",
     "text": [
      "robot_0 health: 1000\n",
      "robot_1 health: 1000\n",
      "robot_0 ammo: 50\n",
      "robot_1 ammo: 50\n",
      "robot_0 game_state: 2\n",
      "robot_1 game_state: 2\n",
      "robot_0 behavior: 0\n",
      "robot_1 behavior: 0\n",
      "robot_0 process: 0\n",
      "robot_1 process: 0\n"
     ]
    }
   ],
   "source": [
    "info_0 = GetInfoClient(\"robot_0\",1)\n",
    "info_1 = GetInfoClient(\"robot_1\",1)\n",
    "print \"robot_0 health: \" + str(info_0[\"my_health\"])\n",
    "print \"robot_1 health: \" + str(info_1[\"my_health\"])\n",
    "print \"robot_0 ammo: \" + str(info_0[\"ammo\"])\n",
    "print \"robot_1 ammo: \" + str(info_1[\"ammo\"])\n",
    "print \"robot_0 game_state: \" + str(info_0[\"game_state\"])\n",
    "print \"robot_1 game_state: \" + str(info_1[\"game_state\"])\n",
    "print \"robot_0 behavior: \" + str(info_0[\"current_behavior_style\"])\n",
    "print \"robot_1 behavior: \" + str(info_1[\"current_behavior_style\"])\n",
    "print \"robot_0 process: \" + str(info_0[\"current_behavior_process\"])\n",
    "print \"robot_1 process: \" + str(info_1[\"current_behavior_process\"])"
   ]
  },
  {
   "cell_type": "code",
   "execution_count": null,
   "metadata": {},
   "outputs": [],
   "source": [
    "# SCENARIO\n",
    "\n",
    "# blue and red meets at 5,3 and engage for 9 sec\n",
    "\n",
    "# red robot flanks\n",
    "# blue robot turns to the direction of the armor\n",
    "# engage again\n",
    "\n",
    "# red goes to reload and after 1 sec blue also reloads\n",
    "\n",
    "# after 10 sec, again meet at 1,1 and fight until one dies\n",
    "\n",
    "import time\n",
    "\n",
    "behav_=1\n",
    "SetBehaviorClient(behav_,\"robot_0\")\n",
    "goal_ = np.array([5,3,0,0,0,0,0])\n",
    "SetGoalClient(goal_,\"robot_0\")\n",
    "behav_=1\n",
    "SetBehaviorClient(behav_,\"robot_1\")\n",
    "goal_ = np.array([3,2,0,0,0,0,0])\n",
    "SetGoalClient(goal_,\"robot_1\")\n",
    "\n",
    "time.sleep(9)\n",
    "\n",
    "behav_=1\n",
    "SetBehaviorClient(behav_,\"robot_1\")\n",
    "goal_ = np.array([5,3,0,0,0,0,0])\n",
    "SetGoalClient(goal_,\"robot_1\")\n",
    "behav_=4\n",
    "SetBehaviorClient(behav_,\"robot_0\")\n",
    "goal_ = np.array([5,3,1,0,0,0,0])\n",
    "SetGoalClient(goal_,\"robot_0\")\n",
    "\n",
    "time.sleep(9)\n",
    "\n",
    "behav_=1\n",
    "SetBehaviorClient(behav_,\"robot_0\")\n",
    "goal_ = np.array([5,3,0,0,0,0,0])\n",
    "SetGoalClient(goal_,\"robot_0\")\n",
    "\n",
    "time.sleep(0.8)\n",
    "\n",
    "behav_=1\n",
    "SetBehaviorClient(behav_,\"robot_1\")\n",
    "goal_ = np.array([3,3,0,0,0,0,0])\n",
    "SetGoalClient(goal_,\"robot_1\")\n",
    "\n",
    "time.sleep(3)\n",
    "\n",
    "behav_=5\n",
    "SetBehaviorClient(behav_,\"robot_1\")\n",
    "goal_ = np.array([4,4.5,-1.5707,0,0,0,0])\n",
    "SetGoalClient(goal_,\"robot_1\")\n",
    "\n",
    "time.sleep(1)\n",
    "\n",
    "behav_=5\n",
    "SetBehaviorClient(behav_,\"robot_0\")\n",
    "goal_ = np.array([4,4.5,-1.5707,0,0,0,0])\n",
    "SetGoalClient(goal_,\"robot_0\")\n",
    "\n",
    "time.sleep(10)\n",
    "\n",
    "behav_=1\n",
    "SetBehaviorClient(behav_,\"robot_0\")\n",
    "goal_ = np.array([1,1,0,0,0,0,0])\n",
    "SetGoalClient(goal_,\"robot_0\")\n",
    "behav_=1\n",
    "SetBehaviorClient(behav_,\"robot_1\")\n",
    "goal_ = np.array([7,4,0,0,0,0,0])\n",
    "SetGoalClient(goal_,\"robot_1\")"
   ]
  },
  {
   "cell_type": "code",
   "execution_count": null,
   "metadata": {},
   "outputs": [],
   "source": [
    "# reset game\n",
    "\n",
    "\n",
    "behav_=7\n",
    "SetBehaviorClient(behav_,\"robot_0\")\n",
    "goal_ = np.array([1,1,0,0,0,0,0])\n",
    "SetGoalClient(goal_,\"robot_0\")\n",
    "behav_=7\n",
    "SetBehaviorClient(behav_,\"robot_1\")\n",
    "goal_ = np.array([1,1,0,0,0,0,0])\n",
    "SetGoalClient(goal_,\"robot_1\")"
   ]
  },
  {
   "cell_type": "code",
   "execution_count": null,
   "metadata": {},
   "outputs": [],
   "source": []
  },
  {
   "cell_type": "code",
   "execution_count": null,
   "metadata": {},
   "outputs": [],
   "source": []
  },
  {
   "cell_type": "code",
   "execution_count": null,
   "metadata": {},
   "outputs": [],
   "source": []
  },
  {
   "cell_type": "code",
   "execution_count": null,
   "metadata": {},
   "outputs": [],
   "source": []
  },
  {
   "cell_type": "code",
   "execution_count": null,
   "metadata": {},
   "outputs": [],
   "source": []
  },
  {
   "cell_type": "code",
   "execution_count": null,
   "metadata": {},
   "outputs": [],
   "source": []
  },
  {
   "cell_type": "code",
   "execution_count": null,
   "metadata": {},
   "outputs": [],
   "source": []
  },
  {
   "cell_type": "code",
   "execution_count": null,
   "metadata": {},
   "outputs": [],
   "source": []
  },
  {
   "cell_type": "code",
   "execution_count": null,
   "metadata": {},
   "outputs": [],
   "source": []
  },
  {
   "cell_type": "code",
   "execution_count": null,
   "metadata": {},
   "outputs": [],
   "source": []
  },
  {
   "cell_type": "code",
   "execution_count": null,
   "metadata": {},
   "outputs": [],
   "source": []
  },
  {
   "cell_type": "code",
   "execution_count": null,
   "metadata": {},
   "outputs": [],
   "source": []
  },
  {
   "cell_type": "code",
   "execution_count": null,
   "metadata": {},
   "outputs": [],
   "source": []
  },
  {
   "cell_type": "code",
   "execution_count": null,
   "metadata": {},
   "outputs": [],
   "source": []
  },
  {
   "cell_type": "code",
   "execution_count": null,
   "metadata": {},
   "outputs": [],
   "source": []
  },
  {
   "cell_type": "code",
   "execution_count": null,
   "metadata": {},
   "outputs": [],
   "source": [
    "behav_=1\n",
    "SetBehaviorClient(behav_,\"robot_1\")\n",
    "goal_ = np.array([4,4,1.5,0,0,0,0])\n",
    "SetGoalClient(goal_,\"robot_1\")"
   ]
  },
  {
   "cell_type": "code",
   "execution_count": null,
   "metadata": {},
   "outputs": [],
   "source": [
    "behav_=5\n",
    "SetBehaviorClient(behav_,\"robot_0\")\n",
    "goal_ = np.array([4,4.5,-1.5707,0,0,0,0])\n",
    "SetGoalClient(goal_,\"robot_0\")"
   ]
  },
  {
   "cell_type": "code",
   "execution_count": null,
   "metadata": {},
   "outputs": [],
   "source": [
    "behav_=4\n",
    "SetBehaviorClient(behav_,\"robot_1\")\n",
    "goal_ = np.array([4,4.5,-1.5707,0,0,0,0])\n",
    "SetGoalClient(goal_,\"robot_1\")"
   ]
  },
  {
   "cell_type": "code",
   "execution_count": null,
   "metadata": {},
   "outputs": [],
   "source": []
  },
  {
   "cell_type": "code",
   "execution_count": null,
   "metadata": {},
   "outputs": [],
   "source": []
  },
  {
   "cell_type": "code",
   "execution_count": null,
   "metadata": {},
   "outputs": [],
   "source": []
  },
  {
   "cell_type": "code",
   "execution_count": null,
   "metadata": {},
   "outputs": [],
   "source": []
  },
  {
   "cell_type": "code",
   "execution_count": null,
   "metadata": {},
   "outputs": [],
   "source": []
  },
  {
   "cell_type": "code",
   "execution_count": null,
   "metadata": {},
   "outputs": [],
   "source": []
  },
  {
   "cell_type": "code",
   "execution_count": null,
   "metadata": {},
   "outputs": [],
   "source": []
  },
  {
   "cell_type": "code",
   "execution_count": null,
   "metadata": {},
   "outputs": [],
   "source": []
  },
  {
   "cell_type": "code",
   "execution_count": null,
   "metadata": {},
   "outputs": [],
   "source": []
  },
  {
   "cell_type": "code",
   "execution_count": null,
   "metadata": {},
   "outputs": [],
   "source": []
  },
  {
   "cell_type": "code",
   "execution_count": null,
   "metadata": {},
   "outputs": [],
   "source": []
  },
  {
   "cell_type": "code",
   "execution_count": null,
   "metadata": {},
   "outputs": [],
   "source": []
  },
  {
   "cell_type": "code",
   "execution_count": null,
   "metadata": {},
   "outputs": [],
   "source": []
  },
  {
   "cell_type": "code",
   "execution_count": null,
   "metadata": {},
   "outputs": [],
   "source": []
  },
  {
   "cell_type": "code",
   "execution_count": null,
   "metadata": {},
   "outputs": [],
   "source": []
  },
  {
   "cell_type": "code",
   "execution_count": null,
   "metadata": {},
   "outputs": [],
   "source": []
  },
  {
   "cell_type": "code",
   "execution_count": null,
   "metadata": {},
   "outputs": [],
   "source": []
  },
  {
   "cell_type": "code",
   "execution_count": null,
   "metadata": {},
   "outputs": [],
   "source": []
  },
  {
   "cell_type": "code",
   "execution_count": null,
   "metadata": {},
   "outputs": [],
   "source": []
  },
  {
   "cell_type": "code",
   "execution_count": null,
   "metadata": {},
   "outputs": [],
   "source": []
  },
  {
   "cell_type": "code",
   "execution_count": null,
   "metadata": {},
   "outputs": [],
   "source": []
  },
  {
   "cell_type": "code",
   "execution_count": null,
   "metadata": {},
   "outputs": [],
   "source": []
  },
  {
   "cell_type": "code",
   "execution_count": null,
   "metadata": {},
   "outputs": [],
   "source": []
  },
  {
   "cell_type": "code",
   "execution_count": null,
   "metadata": {},
   "outputs": [],
   "source": []
  },
  {
   "cell_type": "code",
   "execution_count": null,
   "metadata": {},
   "outputs": [],
   "source": []
  },
  {
   "cell_type": "code",
   "execution_count": null,
   "metadata": {},
   "outputs": [],
   "source": []
  }
 ],
 "metadata": {
  "kernelspec": {
   "display_name": "Python 2",
   "language": "python",
   "name": "python2"
  },
  "language_info": {
   "codemirror_mode": {
    "name": "ipython",
    "version": 2
   },
   "file_extension": ".py",
   "mimetype": "text/x-python",
   "name": "python",
   "nbconvert_exporter": "python",
   "pygments_lexer": "ipython2",
   "version": "2.7.12"
  }
 },
 "nbformat": 4,
 "nbformat_minor": 2
}
